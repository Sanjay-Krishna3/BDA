{
 "cells": [
  {
   "cell_type": "code",
   "execution_count": 40,
   "metadata": {},
   "outputs": [
    {
     "name": "stdout",
     "output_type": "stream",
     "text": [
      "+--------+------+-------+----------+------------+-------------+---------------+-----------------+----------+----------------+--------------+-------------+-----------+\n",
      "| Loan_ID|Gender|Married|Dependents|   Education|Self_Employed|ApplicantIncome|CoapplicantIncome|LoanAmount|Loan_Amount_Term|Credit_History|Property_Area|Loan_Status|\n",
      "+--------+------+-------+----------+------------+-------------+---------------+-----------------+----------+----------------+--------------+-------------+-----------+\n",
      "|LP001002|  Male|     No|         0|    Graduate|           No|           5849|             0E-8|      null|             360|          true|        Urban|          Y|\n",
      "|LP001003|  Male|    Yes|         1|    Graduate|           No|           4583|    1508.00000000|       128|             360|          true|        Rural|          N|\n",
      "|LP001005|  Male|    Yes|         0|    Graduate|          Yes|           3000|             0E-8|        66|             360|          true|        Urban|          Y|\n",
      "|LP001006|  Male|    Yes|         0|Not Graduate|           No|           2583|    2358.00000000|       120|             360|          true|        Urban|          Y|\n",
      "|LP001008|  Male|     No|         0|    Graduate|           No|           6000|             0E-8|       141|             360|          true|        Urban|          Y|\n",
      "|LP001011|  Male|    Yes|         2|    Graduate|          Yes|           5417|    4196.00000000|       267|             360|          true|        Urban|          Y|\n",
      "|LP001013|  Male|    Yes|         0|Not Graduate|           No|           2333|    1516.00000000|        95|             360|          true|        Urban|          Y|\n",
      "|LP001014|  Male|    Yes|        3+|    Graduate|           No|           3036|    2504.00000000|       158|             360|         false|    Semiurban|          N|\n",
      "|LP001018|  Male|    Yes|         2|    Graduate|           No|           4006|    1526.00000000|       168|             360|          true|        Urban|          Y|\n",
      "|LP001020|  Male|    Yes|         1|    Graduate|           No|          12841|   10968.00000000|       349|             360|          true|    Semiurban|          N|\n",
      "|LP001024|  Male|    Yes|         2|    Graduate|           No|           3200|     700.00000000|        70|             360|          true|        Urban|          Y|\n",
      "|LP001027|  Male|    Yes|         2|    Graduate|         null|           2500|    1840.00000000|       109|             360|          true|        Urban|          Y|\n",
      "|LP001028|  Male|    Yes|         2|    Graduate|           No|           3073|    8106.00000000|       200|             360|          true|        Urban|          Y|\n",
      "|LP001029|  Male|     No|         0|    Graduate|           No|           1853|    2840.00000000|       114|             360|          true|        Rural|          N|\n",
      "|LP001030|  Male|    Yes|         2|    Graduate|           No|           1299|    1086.00000000|        17|             120|          true|        Urban|          Y|\n",
      "|LP001032|  Male|     No|         0|    Graduate|           No|           4950|             0E-8|       125|             360|          true|        Urban|          Y|\n",
      "|LP001034|  Male|     No|         1|Not Graduate|           No|           3596|             0E-8|       100|             240|          null|        Urban|          Y|\n",
      "|LP001036|Female|     No|         0|    Graduate|           No|           3510|             0E-8|        76|             360|         false|        Urban|          N|\n",
      "|LP001038|  Male|    Yes|         0|Not Graduate|           No|           4887|             0E-8|       133|             360|          true|        Rural|          N|\n",
      "|LP001041|  Male|    Yes|         0|    Graduate|         null|           2600|    3500.00000000|       115|            null|          true|        Urban|          Y|\n",
      "+--------+------+-------+----------+------------+-------------+---------------+-----------------+----------+----------------+--------------+-------------+-----------+\n",
      "only showing top 20 rows\n",
      "\n"
     ]
    }
   ],
   "source": [
    "import findspark\n",
    "findspark.init()\n",
    "\n",
    "import pyspark # only run after findspark.init()\n",
    "from pyspark.sql import SparkSession\n",
    "spark = SparkSession.builder.getOrCreate()\n",
    "\n",
    "dataframe_mysql = spark.read.format(\"jdbc\").options(\n",
    "    url=\"jdbc:mysql://localhost:3306/loan\",\n",
    "    driver = \"com.mysql.jdbc.Driver\",\n",
    "    dbtable = \"mytable\",\n",
    "    user=\"root\",\n",
    "    password=\"sanjay2001\").load()\n",
    "\n",
    "dataframe_mysql.show()"
   ]
  },
  {
   "cell_type": "code",
   "execution_count": 41,
   "metadata": {},
   "outputs": [
    {
     "name": "stderr",
     "output_type": "stream",
     "text": [
      "C:\\spark-3.2.1-bin-hadoop3.2\\python\\pyspark\\sql\\pandas\\conversion.py:87: UserWarning: toPandas attempted Arrow optimization because 'spark.sql.execution.arrow.pyspark.enabled' is set to true; however, failed by the reason below:\n",
      "  PyArrow >= 1.0.0 must be installed; however, it was not found.\n",
      "Attempting non-optimization as 'spark.sql.execution.arrow.pyspark.fallback.enabled' is set to true.\n",
      "  warnings.warn(msg)\n"
     ]
    },
    {
     "name": "stdout",
     "output_type": "stream",
     "text": [
      "(614, 13)\n"
     ]
    }
   ],
   "source": [
    "spark.conf.set(\"spark.sql.execution.arrow.enabled\", \"true\")\n",
    "spark.conf.set(\"spark.sql.crossJoin.enabled\", \"true\")\n",
    "print(dataframe_mysql.toPandas().shape)"
   ]
  },
  {
   "cell_type": "code",
   "execution_count": 42,
   "metadata": {},
   "outputs": [
    {
     "name": "stdout",
     "output_type": "stream",
     "text": [
      "root\n",
      " |-- Loan_ID: string (nullable = true)\n",
      " |-- Gender: string (nullable = true)\n",
      " |-- Married: string (nullable = true)\n",
      " |-- Dependents: string (nullable = true)\n",
      " |-- Education: string (nullable = true)\n",
      " |-- Self_Employed: string (nullable = true)\n",
      " |-- ApplicantIncome: integer (nullable = true)\n",
      " |-- CoapplicantIncome: decimal(13,8) (nullable = true)\n",
      " |-- LoanAmount: integer (nullable = true)\n",
      " |-- Loan_Amount_Term: integer (nullable = true)\n",
      " |-- Credit_History: boolean (nullable = true)\n",
      " |-- Property_Area: string (nullable = true)\n",
      " |-- Loan_Status: string (nullable = true)\n",
      "\n"
     ]
    }
   ],
   "source": [
    "dataframe_mysql.printSchema()"
   ]
  },
  {
   "cell_type": "code",
   "execution_count": 43,
   "metadata": {},
   "outputs": [
    {
     "data": {
      "text/html": [
       "<div>\n",
       "<style scoped>\n",
       "    .dataframe tbody tr th:only-of-type {\n",
       "        vertical-align: middle;\n",
       "    }\n",
       "\n",
       "    .dataframe tbody tr th {\n",
       "        vertical-align: top;\n",
       "    }\n",
       "\n",
       "    .dataframe thead th {\n",
       "        text-align: right;\n",
       "    }\n",
       "</style>\n",
       "<table border=\"1\" class=\"dataframe\">\n",
       "  <thead>\n",
       "    <tr style=\"text-align: right;\">\n",
       "      <th></th>\n",
       "      <th>0</th>\n",
       "      <th>1</th>\n",
       "      <th>2</th>\n",
       "      <th>3</th>\n",
       "      <th>4</th>\n",
       "    </tr>\n",
       "  </thead>\n",
       "  <tbody>\n",
       "    <tr>\n",
       "      <th>summary</th>\n",
       "      <td>count</td>\n",
       "      <td>mean</td>\n",
       "      <td>stddev</td>\n",
       "      <td>min</td>\n",
       "      <td>max</td>\n",
       "    </tr>\n",
       "    <tr>\n",
       "      <th>Loan_ID</th>\n",
       "      <td>614</td>\n",
       "      <td>None</td>\n",
       "      <td>None</td>\n",
       "      <td>LP001002</td>\n",
       "      <td>LP002990</td>\n",
       "    </tr>\n",
       "    <tr>\n",
       "      <th>Gender</th>\n",
       "      <td>601</td>\n",
       "      <td>None</td>\n",
       "      <td>None</td>\n",
       "      <td>Female</td>\n",
       "      <td>Male</td>\n",
       "    </tr>\n",
       "    <tr>\n",
       "      <th>Married</th>\n",
       "      <td>611</td>\n",
       "      <td>None</td>\n",
       "      <td>None</td>\n",
       "      <td>No</td>\n",
       "      <td>Yes</td>\n",
       "    </tr>\n",
       "    <tr>\n",
       "      <th>Dependents</th>\n",
       "      <td>599</td>\n",
       "      <td>0.5547445255474452</td>\n",
       "      <td>0.7853289861674311</td>\n",
       "      <td>0</td>\n",
       "      <td>3+</td>\n",
       "    </tr>\n",
       "    <tr>\n",
       "      <th>Education</th>\n",
       "      <td>614</td>\n",
       "      <td>None</td>\n",
       "      <td>None</td>\n",
       "      <td>Graduate</td>\n",
       "      <td>Not Graduate</td>\n",
       "    </tr>\n",
       "    <tr>\n",
       "      <th>Self_Employed</th>\n",
       "      <td>582</td>\n",
       "      <td>None</td>\n",
       "      <td>None</td>\n",
       "      <td>No</td>\n",
       "      <td>Yes</td>\n",
       "    </tr>\n",
       "    <tr>\n",
       "      <th>ApplicantIncome</th>\n",
       "      <td>614</td>\n",
       "      <td>5403.459283387622</td>\n",
       "      <td>6109.041673387181</td>\n",
       "      <td>150</td>\n",
       "      <td>81000</td>\n",
       "    </tr>\n",
       "    <tr>\n",
       "      <th>CoapplicantIncome</th>\n",
       "      <td>614</td>\n",
       "      <td>1621.245798027101</td>\n",
       "      <td>2926.2483692241894</td>\n",
       "      <td>0E-8</td>\n",
       "      <td>41667.00000000</td>\n",
       "    </tr>\n",
       "    <tr>\n",
       "      <th>LoanAmount</th>\n",
       "      <td>592</td>\n",
       "      <td>146.41216216216216</td>\n",
       "      <td>85.58732523570545</td>\n",
       "      <td>9</td>\n",
       "      <td>700</td>\n",
       "    </tr>\n",
       "    <tr>\n",
       "      <th>Loan_Amount_Term</th>\n",
       "      <td>600</td>\n",
       "      <td>342.0</td>\n",
       "      <td>65.12040985461255</td>\n",
       "      <td>12</td>\n",
       "      <td>480</td>\n",
       "    </tr>\n",
       "    <tr>\n",
       "      <th>Property_Area</th>\n",
       "      <td>614</td>\n",
       "      <td>None</td>\n",
       "      <td>None</td>\n",
       "      <td>Rural</td>\n",
       "      <td>Urban</td>\n",
       "    </tr>\n",
       "    <tr>\n",
       "      <th>Loan_Status</th>\n",
       "      <td>614</td>\n",
       "      <td>None</td>\n",
       "      <td>None</td>\n",
       "      <td>N</td>\n",
       "      <td>Y</td>\n",
       "    </tr>\n",
       "  </tbody>\n",
       "</table>\n",
       "</div>"
      ],
      "text/plain": [
       "                       0                   1                   2         3  \\\n",
       "summary            count                mean              stddev       min   \n",
       "Loan_ID              614                None                None  LP001002   \n",
       "Gender               601                None                None    Female   \n",
       "Married              611                None                None        No   \n",
       "Dependents           599  0.5547445255474452  0.7853289861674311         0   \n",
       "Education            614                None                None  Graduate   \n",
       "Self_Employed        582                None                None        No   \n",
       "ApplicantIncome      614   5403.459283387622   6109.041673387181       150   \n",
       "CoapplicantIncome    614   1621.245798027101  2926.2483692241894      0E-8   \n",
       "LoanAmount           592  146.41216216216216   85.58732523570545         9   \n",
       "Loan_Amount_Term     600               342.0   65.12040985461255        12   \n",
       "Property_Area        614                None                None     Rural   \n",
       "Loan_Status          614                None                None         N   \n",
       "\n",
       "                                4  \n",
       "summary                       max  \n",
       "Loan_ID                  LP002990  \n",
       "Gender                       Male  \n",
       "Married                       Yes  \n",
       "Dependents                     3+  \n",
       "Education            Not Graduate  \n",
       "Self_Employed                 Yes  \n",
       "ApplicantIncome             81000  \n",
       "CoapplicantIncome  41667.00000000  \n",
       "LoanAmount                    700  \n",
       "Loan_Amount_Term              480  \n",
       "Property_Area               Urban  \n",
       "Loan_Status                     Y  "
      ]
     },
     "execution_count": 43,
     "metadata": {},
     "output_type": "execute_result"
    }
   ],
   "source": [
    "dataframe_mysql.describe().toPandas().transpose()"
   ]
  },
  {
   "cell_type": "code",
   "execution_count": 44,
   "metadata": {},
   "outputs": [
    {
     "name": "stdout",
     "output_type": "stream",
     "text": [
      "+--------+------+-------+----------+---------+-------------+---------------+-----------------+----------+----------------+--------------+-------------+-----------+\n",
      "| Loan_ID|Gender|Married|Dependents|Education|Self_Employed|ApplicantIncome|CoapplicantIncome|LoanAmount|Loan_Amount_Term|Credit_History|Property_Area|Loan_Status|\n",
      "+--------+------+-------+----------+---------+-------------+---------------+-----------------+----------+----------------+--------------+-------------+-----------+\n",
      "|LP001002|     1|      0|         0|        1|            0|           5849|             0E-8|      null|             360|             1|            1|          1|\n",
      "|LP001003|     1|      1|         1|        1|            0|           4583|    1508.00000000|       128|             360|             1|            0|          0|\n",
      "|LP001005|     1|      1|         0|        1|            1|           3000|             0E-8|        66|             360|             1|            1|          1|\n",
      "|LP001006|     1|      1|         0|        0|            0|           2583|    2358.00000000|       120|             360|             1|            1|          1|\n",
      "|LP001008|     1|      0|         0|        1|            0|           6000|             0E-8|       141|             360|             1|            1|          1|\n",
      "+--------+------+-------+----------+---------+-------------+---------------+-----------------+----------+----------------+--------------+-------------+-----------+\n",
      "only showing top 5 rows\n",
      "\n"
     ]
    }
   ],
   "source": [
    "\n",
    "from pyspark.sql.functions import col, when\n",
    "dataframe_mysql = dataframe_mysql.withColumn(dataframe_mysql.columns[1], when(col(dataframe_mysql.columns[1]) == \"Male\", 1).otherwise(0))\n",
    "dataframe_mysql = dataframe_mysql.withColumn(dataframe_mysql.columns[2], when(col(dataframe_mysql.columns[2]) == \"Yes\", 1).otherwise(0))\n",
    "dataframe_mysql = dataframe_mysql.withColumn(dataframe_mysql.columns[4], when(col(dataframe_mysql.columns[4]) == \"Graduate\", 1).otherwise(0))\n",
    "dataframe_mysql = dataframe_mysql.withColumn(dataframe_mysql.columns[5], when(col(dataframe_mysql.columns[5]) == \"Yes\", 1).otherwise(0))\n",
    "dataframe_mysql = dataframe_mysql.withColumn(dataframe_mysql.columns[10], when(col(dataframe_mysql.columns[10]) == \"true\", 1).otherwise(0))\n",
    "dataframe_mysql = dataframe_mysql.withColumn(dataframe_mysql.columns[11], when(col(dataframe_mysql.columns[11]) == \"Urban\", 1).otherwise(0))\n",
    "dataframe_mysql = dataframe_mysql.withColumn(dataframe_mysql.columns[12], when(col(dataframe_mysql.columns[12]) == \"Y\", 1).otherwise(0))\n",
    "dataframe_mysql=dataframe_mysql.na.replace('0E-8', '0')\n",
    "dataframe_mysql.show(5)"
   ]
  },
  {
   "cell_type": "code",
   "execution_count": 45,
   "metadata": {},
   "outputs": [
    {
     "name": "stdout",
     "output_type": "stream",
     "text": [
      "+--------+------+-------+----------+---------+-------------+---------------+-----------------+----------+----------------+--------------+-------------+-----------+\n",
      "| Loan_ID|Gender|Married|Dependents|Education|Self_Employed|ApplicantIncome|CoapplicantIncome|LoanAmount|Loan_Amount_Term|Credit_History|Property_Area|Loan_Status|\n",
      "+--------+------+-------+----------+---------+-------------+---------------+-----------------+----------+----------------+--------------+-------------+-----------+\n",
      "|LP001003|     1|      1|         1|        1|            0|           4583|    1508.00000000|       128|             360|             1|            0|          0|\n",
      "|LP001005|     1|      1|         0|        1|            1|           3000|             0E-8|        66|             360|             1|            1|          1|\n",
      "|LP001006|     1|      1|         0|        0|            0|           2583|    2358.00000000|       120|             360|             1|            1|          1|\n",
      "|LP001008|     1|      0|         0|        1|            0|           6000|             0E-8|       141|             360|             1|            1|          1|\n",
      "|LP001011|     1|      1|         2|        1|            1|           5417|    4196.00000000|       267|             360|             1|            1|          1|\n",
      "|LP001013|     1|      1|         0|        0|            0|           2333|    1516.00000000|        95|             360|             1|            1|          1|\n",
      "|LP001014|     1|      1|         3|        1|            0|           3036|    2504.00000000|       158|             360|             0|            0|          0|\n",
      "|LP001018|     1|      1|         2|        1|            0|           4006|    1526.00000000|       168|             360|             1|            1|          1|\n",
      "|LP001020|     1|      1|         1|        1|            0|          12841|   10968.00000000|       349|             360|             1|            0|          0|\n",
      "|LP001024|     1|      1|         2|        1|            0|           3200|     700.00000000|        70|             360|             1|            1|          1|\n",
      "|LP001027|     1|      1|         2|        1|            0|           2500|    1840.00000000|       109|             360|             1|            1|          1|\n",
      "|LP001028|     1|      1|         2|        1|            0|           3073|    8106.00000000|       200|             360|             1|            1|          1|\n",
      "|LP001029|     1|      0|         0|        1|            0|           1853|    2840.00000000|       114|             360|             1|            0|          0|\n",
      "|LP001030|     1|      1|         2|        1|            0|           1299|    1086.00000000|        17|             120|             1|            1|          1|\n",
      "|LP001032|     1|      0|         0|        1|            0|           4950|             0E-8|       125|             360|             1|            1|          1|\n",
      "|LP001034|     1|      0|         1|        0|            0|           3596|             0E-8|       100|             240|             0|            1|          1|\n",
      "|LP001036|     0|      0|         0|        1|            0|           3510|             0E-8|        76|             360|             0|            1|          0|\n",
      "|LP001038|     1|      1|         0|        0|            0|           4887|             0E-8|       133|             360|             1|            0|          0|\n",
      "|LP001043|     1|      1|         0|        0|            0|           7660|             0E-8|       104|             360|             0|            1|          0|\n",
      "|LP001046|     1|      1|         1|        1|            0|           5955|    5625.00000000|       315|             360|             1|            1|          1|\n",
      "+--------+------+-------+----------+---------+-------------+---------------+-----------------+----------+----------------+--------------+-------------+-----------+\n",
      "only showing top 20 rows\n",
      "\n"
     ]
    }
   ],
   "source": [
    "dataframe_mysql = dataframe_mysql.withColumn(\"Dependents\", \\\n",
    "              when(dataframe_mysql[\"Dependents\"] == \"3+\", 3).otherwise(dataframe_mysql[\"Dependents\"]))\n",
    "dataframe_mysql=dataframe_mysql.na.drop()\n",
    "dataframe_mysql.show()"
   ]
  },
  {
   "cell_type": "code",
   "execution_count": 46,
   "metadata": {},
   "outputs": [
    {
     "name": "stdout",
     "output_type": "stream",
     "text": [
      "root\n",
      " |-- Gender: integer (nullable = false)\n",
      " |-- Married: integer (nullable = false)\n",
      " |-- Dependents: string (nullable = true)\n",
      " |-- Education: integer (nullable = false)\n",
      " |-- Self_Employed: integer (nullable = false)\n",
      " |-- ApplicantIncome: integer (nullable = true)\n",
      " |-- CoapplicantIncome: decimal(13,8) (nullable = true)\n",
      " |-- LoanAmount: integer (nullable = true)\n",
      " |-- Loan_Amount_Term: integer (nullable = true)\n",
      " |-- Credit_History: integer (nullable = false)\n",
      " |-- Property_Area: integer (nullable = false)\n",
      " |-- Loan_Status: integer (nullable = false)\n",
      "\n"
     ]
    }
   ],
   "source": [
    "dataframe_mysql = dataframe_mysql.drop(col(\"Loan_ID\")) \n",
    "dataframe_mysql.printSchema()"
   ]
  },
  {
   "cell_type": "code",
   "execution_count": 47,
   "metadata": {},
   "outputs": [
    {
     "name": "stdout",
     "output_type": "stream",
     "text": [
      "root\n",
      " |-- Gender: integer (nullable = false)\n",
      " |-- Married: integer (nullable = false)\n",
      " |-- Dependents: string (nullable = true)\n",
      " |-- Education: integer (nullable = false)\n",
      " |-- Self_Employed: integer (nullable = false)\n",
      " |-- ApplicantIncome: integer (nullable = true)\n",
      " |-- CoapplicantIncome: decimal(13,8) (nullable = true)\n",
      " |-- LoanAmount: integer (nullable = true)\n",
      " |-- Loan_Amount_Term: integer (nullable = true)\n",
      " |-- Credit_History: integer (nullable = false)\n",
      " |-- Property_Area: integer (nullable = false)\n",
      " |-- Loan_Status: integer (nullable = false)\n",
      "\n"
     ]
    }
   ],
   "source": [
    "dataframe_mysql.printSchema()"
   ]
  },
  {
   "cell_type": "code",
   "execution_count": 48,
   "metadata": {},
   "outputs": [
    {
     "name": "stdout",
     "output_type": "stream",
     "text": [
      "root\n",
      " |-- Gender: integer (nullable = false)\n",
      " |-- Married: integer (nullable = false)\n",
      " |-- Dependents: integer (nullable = true)\n",
      " |-- Education: integer (nullable = false)\n",
      " |-- Self_Employed: integer (nullable = false)\n",
      " |-- ApplicantIncome: integer (nullable = true)\n",
      " |-- CoapplicantIncome: decimal(13,8) (nullable = true)\n",
      " |-- LoanAmount: integer (nullable = true)\n",
      " |-- Loan_Amount_Term: integer (nullable = true)\n",
      " |-- Credit_History: integer (nullable = false)\n",
      " |-- Property_Area: integer (nullable = false)\n",
      " |-- Loan_Status: integer (nullable = false)\n",
      "\n"
     ]
    }
   ],
   "source": [
    "from pyspark.sql.types import IntegerType\n",
    "dataframe_mysql = dataframe_mysql.withColumn(\"Dependents\",dataframe_mysql[\"Dependents\"].cast(IntegerType()))\n",
    "dataframe_mysql.printSchema()"
   ]
  },
  {
   "cell_type": "code",
   "execution_count": 49,
   "metadata": {},
   "outputs": [
    {
     "name": "stdout",
     "output_type": "stream",
     "text": [
      "root\n",
      " |-- Gender: integer (nullable = false)\n",
      " |-- Married: integer (nullable = false)\n",
      " |-- Dependents: integer (nullable = true)\n",
      " |-- Education: integer (nullable = false)\n",
      " |-- Self_Employed: integer (nullable = false)\n",
      " |-- ApplicantIncome: integer (nullable = true)\n",
      " |-- CoapplicantIncome: decimal(13,8) (nullable = true)\n",
      " |-- LoanAmount: integer (nullable = true)\n",
      " |-- Loan_Amount_Term: integer (nullable = true)\n",
      " |-- Credit_History: integer (nullable = false)\n",
      " |-- Property_Area: integer (nullable = false)\n",
      " |-- Loan_Status: integer (nullable = false)\n",
      "\n"
     ]
    }
   ],
   "source": [
    "dataframe_mysql.printSchema()"
   ]
  },
  {
   "cell_type": "code",
   "execution_count": 50,
   "metadata": {},
   "outputs": [
    {
     "data": {
      "image/png": "[encoded data removed]",
      "text/plain": [
       "<Figure size 432x288 with 1 Axes>"
      ]
     },
     "metadata": {},
     "output_type": "display_data"
    }
   ],
   "source": [
    "# dataframe_mysql = dataframe_mysql.selectExpr(\"cast(Dependents as int) Dependents\")\n",
    "# dataframe_mysql.printSchema()\n",
    "labels = ['Yes', 'No']\n",
    "sizes = [dataframe_mysql.filter(dataframe_mysql['Loan_Status'] == 0).select('Loan_Status').count(), dataframe_mysql.filter(dataframe_mysql['Loan_Status'] == 1).select('Loan_Status').count()]\n",
    "colors = ['#FFD700','#EEE8AA']\n",
    "\n",
    "plt.pie(sizes, colors = colors, labels=labels, autopct='%.1f%%', startangle=90, pctdistance=0.85)\n",
    "fig = plt.gcf()\n",
    "plt.tight_layout()\n",
    "plt.show()"
   ]
  },
  {
   "cell_type": "code",
   "execution_count": 51,
   "metadata": {},
   "outputs": [],
   "source": [
    "features = dataframe_mysql.drop('Loan_Status')"
   ]
  },
  {
   "cell_type": "code",
   "execution_count": 52,
   "metadata": {},
   "outputs": [],
   "source": [
    "#let's assemble our features together using vectorAssembler\n",
    "from pyspark.ml.feature import VectorAssembler\n",
    "assembler = VectorAssembler(\n",
    "    inputCols=features.columns,\n",
    "    outputCol=\"features\")"
   ]
  },
  {
   "cell_type": "code",
   "execution_count": 53,
   "metadata": {},
   "outputs": [],
   "source": [
    "output = assembler.transform(dataframe_mysql)"
   ]
  },
  {
   "cell_type": "code",
   "execution_count": 54,
   "metadata": {},
   "outputs": [],
   "source": [
    "output= output.select(\"features\", \"Loan_Status\")"
   ]
  },
  {
   "cell_type": "code",
   "execution_count": 55,
   "metadata": {},
   "outputs": [],
   "source": [
    "train_df,test_df = output.randomSplit([0.7, 0.3])"
   ]
  },
  {
   "cell_type": "code",
   "execution_count": 56,
   "metadata": {},
   "outputs": [
    {
     "name": "stdout",
     "output_type": "stream",
     "text": [
      "Training Dataset Count: 389\n",
      "Test Dataset Count: 177\n"
     ]
    }
   ],
   "source": [
    "print(\"Training Dataset Count: \" + str(train_df.count()))\n",
    "print(\"Test Dataset Count: \" + str(test_df.count()))"
   ]
  },
  {
   "cell_type": "code",
   "execution_count": 57,
   "metadata": {},
   "outputs": [],
   "source": [
    "# train_df.show()\n",
    "# test_df.show()"
   ]
  },
  {
   "cell_type": "markdown",
   "metadata": {},
   "source": [
    "Logistic Regression Model"
   ]
  },
  {
   "cell_type": "code",
   "execution_count": 58,
   "metadata": {},
   "outputs": [],
   "source": [
    "from pyspark.ml.classification import LogisticRegression\n",
    "lr = LogisticRegression(featuresCol = 'features', labelCol = 'Loan_Status', maxIter=10)\n",
    "lrModel = lr.fit(train_df)"
   ]
  },
  {
   "cell_type": "code",
   "execution_count": 59,
   "metadata": {},
   "outputs": [
    {
     "data": {
      "image/png": "[encoded data removed]",
      "text/plain": [
       "<Figure size 432x288 with 1 Axes>"
      ]
     },
     "metadata": {
      "needs_background": "light"
     },
     "output_type": "display_data"
    }
   ],
   "source": [
    "import matplotlib.pyplot as plt\n",
    "import numpy as np\n",
    "beta = np.sort(lrModel.coefficients)\n",
    "plt.plot(beta)\n",
    "plt.ylabel('Beta Coefficients')\n",
    "plt.show()"
   ]
  },
  {
   "cell_type": "code",
   "execution_count": 60,
   "metadata": {},
   "outputs": [
    {
     "name": "stderr",
     "output_type": "stream",
     "text": [
      "C:\\spark-3.2.1-bin-hadoop3.2\\python\\pyspark\\sql\\context.py:125: FutureWarning: Deprecated in 3.0.0. Use SparkSession.builder.getOrCreate() instead.\n",
      "  warnings.warn(\n",
      "C:\\spark-3.2.1-bin-hadoop3.2\\python\\pyspark\\sql\\pandas\\conversion.py:87: UserWarning: toPandas attempted Arrow optimization because 'spark.sql.execution.arrow.pyspark.enabled' is set to true; however, failed by the reason below:\n",
      "  PyArrow >= 1.0.0 must be installed; however, it was not found.\n",
      "Attempting non-optimization as 'spark.sql.execution.arrow.pyspark.fallback.enabled' is set to true.\n",
      "  warnings.warn(msg)\n"
     ]
    },
    {
     "data": {
      "image/png": "[encoded data removed]",
      "text/plain": [
       "<Figure size 432x288 with 1 Axes>"
      ]
     },
     "metadata": {
      "needs_background": "light"
     },
     "output_type": "display_data"
    },
    {
     "name": "stdout",
     "output_type": "stream",
     "text": [
      "Training set areaUnderROC: 0.7638032990974166\n"
     ]
    }
   ],
   "source": [
    "trainingSummary = lrModel.summary\n",
    "roc = trainingSummary.roc.toPandas()\n",
    "plt.plot(roc['FPR'],roc['TPR'])\n",
    "plt.ylabel('False Positive Rate')\n",
    "plt.xlabel('True Positive Rate')\n",
    "plt.title('ROC Curve')\n",
    "plt.show()\n",
    "print('Training set areaUnderROC: ' + str(trainingSummary.areaUnderROC))"
   ]
  },
  {
   "cell_type": "code",
   "execution_count": 61,
   "metadata": {},
   "outputs": [
    {
     "name": "stderr",
     "output_type": "stream",
     "text": [
      "C:\\spark-3.2.1-bin-hadoop3.2\\python\\pyspark\\sql\\context.py:125: FutureWarning: Deprecated in 3.0.0. Use SparkSession.builder.getOrCreate() instead.\n",
      "  warnings.warn(\n",
      "C:\\spark-3.2.1-bin-hadoop3.2\\python\\pyspark\\sql\\pandas\\conversion.py:87: UserWarning: toPandas attempted Arrow optimization because 'spark.sql.execution.arrow.pyspark.enabled' is set to true; however, failed by the reason below:\n",
      "  PyArrow >= 1.0.0 must be installed; however, it was not found.\n",
      "Attempting non-optimization as 'spark.sql.execution.arrow.pyspark.fallback.enabled' is set to true.\n",
      "  warnings.warn(msg)\n"
     ]
    },
    {
     "data": {
      "image/png": "[encoded data removed]",
      "text/plain": [
       "<Figure size 432x288 with 1 Axes>"
      ]
     },
     "metadata": {
      "needs_background": "light"
     },
     "output_type": "display_data"
    }
   ],
   "source": [
    "pr = trainingSummary.pr.toPandas()\n",
    "plt.plot(pr['recall'],pr['precision'])\n",
    "plt.ylabel('Precision')\n",
    "plt.xlabel('Recall')\n",
    "plt.show()"
   ]
  },
  {
   "cell_type": "code",
   "execution_count": 62,
   "metadata": {},
   "outputs": [
    {
     "name": "stdout",
     "output_type": "stream",
     "text": [
      "+--------------------+-----------+--------------------+--------------------+----------+\n",
      "|            features|Loan_status|       rawPrediction|         probability|prediction|\n",
      "+--------------------+-----------+--------------------+--------------------+----------+\n",
      "|(11,[0,1,2,5,7,8]...|          1|[0.75852548723240...|[0.68103351553714...|       0.0|\n",
      "|(11,[0,1,5,6,7,8]...|          0|[0.71075136088702...|[0.67056716183719...|       0.0|\n",
      "|(11,[0,2,3,5,7,8]...|          1|[1.27296672498774...|[0.78125017930229...|       0.0|\n",
      "|(11,[0,3,5,7,8],[...|          1|[0.99775911671733...|[0.73061776617829...|       0.0|\n",
      "|(11,[0,3,5,7,8,9]...|          1|[-1.1767176820576...|[0.23564287889011...|       1.0|\n",
      "|(11,[0,3,5,7,8,9]...|          1|[-0.5843628280309...|[0.35792932604782...|       1.0|\n",
      "|(11,[0,3,5,7,8,9]...|          0|[-0.6914802071793...|[0.33370387472365...|       1.0|\n",
      "|(11,[0,4,5,7,8,9]...|          1|[-0.3365430002837...|[0.41664946726679...|       1.0|\n",
      "|(11,[0,5,6,7,8,9]...|          1|[-0.4447462336182...|[0.39061061971223...|       1.0|\n",
      "|(11,[0,5,7,8,9],[...|          0|[-0.9419548765862...|[0.28050563580634...|       1.0|\n",
      "|(11,[0,5,7,8,9],[...|          0|[-1.7074253395503...|[0.15349795933817...|       1.0|\n",
      "|(11,[0,5,7,8,9],[...|          1|[-0.7380082355426...|[0.32343984126297...|       1.0|\n",
      "|(11,[1,3,4,5,7,8]...|          0|[0.36373583158179...|[0.58994447176769...|       0.0|\n",
      "|(11,[1,3,5,6,7,8]...|          0|[0.35056668491506...|[0.58675499178446...|       0.0|\n",
      "|(11,[1,3,5,7,8,9]...|          0|[-2.1520200172991...|[0.10414261095394...|       1.0|\n",
      "|(11,[1,3,5,7,8,9]...|          1|[-2.6686170785799...|[0.06485078564675...|       1.0|\n",
      "|(11,[1,5,6,7,8],[...|          0|[1.09309467737638...|[0.74896402147938...|       0.0|\n",
      "|(11,[1,5,6,7,8],[...|          1|[0.66452382810776...|[0.66027587033166...|       0.0|\n",
      "|(11,[2,3,5,7,8,9]...|          0|[-1.1503954558630...|[0.24041685883541...|       1.0|\n",
      "|(11,[2,5,7,8,9],[...|          1|[-0.4946929925501...|[0.37878864336992...|       1.0|\n",
      "+--------------------+-----------+--------------------+--------------------+----------+\n",
      "only showing top 20 rows\n",
      "\n"
     ]
    }
   ],
   "source": [
    "predictions = lrModel.transform(test_df)\n",
    "predictions.select(\"features\",\"Loan_status\",\"rawPrediction\",\"probability\",\"prediction\").show()"
   ]
  },
  {
   "cell_type": "code",
   "execution_count": 63,
   "metadata": {},
   "outputs": [
    {
     "name": "stdout",
     "output_type": "stream",
     "text": [
      "Test Area Under ROC 0.6474015748031496\n"
     ]
    }
   ],
   "source": [
    "from pyspark.ml.evaluation import BinaryClassificationEvaluator\n",
    "evaluator = BinaryClassificationEvaluator(labelCol=\"Loan_Status\")\n",
    "print('Test Area Under ROC', evaluator.evaluate(predictions))"
   ]
  },
  {
   "cell_type": "code",
   "execution_count": 64,
   "metadata": {},
   "outputs": [
    {
     "name": "stderr",
     "output_type": "stream",
     "text": [
      "C:\\spark-3.2.1-bin-hadoop3.2\\python\\pyspark\\sql\\pandas\\conversion.py:87: UserWarning: toPandas attempted Arrow optimization because 'spark.sql.execution.arrow.pyspark.enabled' is set to true; however, failed by the reason below:\n",
      "  PyArrow >= 1.0.0 must be installed; however, it was not found.\n",
      "Attempting non-optimization as 'spark.sql.execution.arrow.pyspark.fallback.enabled' is set to true.\n",
      "  warnings.warn(msg)\n"
     ]
    }
   ],
   "source": [
    "lrpredictB = predictions[predictions.prediction==0].toPandas()\n",
    "lrpredictM = predictions[predictions.prediction==1].toPandas()"
   ]
  },
  {
   "cell_type": "code",
   "execution_count": 65,
   "metadata": {},
   "outputs": [
    {
     "name": "stderr",
     "output_type": "stream",
     "text": [
      "C:\\spark-3.2.1-bin-hadoop3.2\\python\\pyspark\\sql\\pandas\\conversion.py:87: UserWarning: toPandas attempted Arrow optimization because 'spark.sql.execution.arrow.pyspark.enabled' is set to true; however, failed by the reason below:\n",
      "  PyArrow >= 1.0.0 must be installed; however, it was not found.\n",
      "Attempting non-optimization as 'spark.sql.execution.arrow.pyspark.fallback.enabled' is set to true.\n",
      "  warnings.warn(msg)\n"
     ]
    },
    {
     "name": "stdout",
     "output_type": "stream",
     "text": [
      "-- Logistic Regression --\n",
      "------------------------------------------------------------------------\n",
      "Classification Report\n",
      "               precision    recall  f1-score   support\n",
      "\n",
      "           0       0.56      0.38      0.45        50\n",
      "           1       0.78      0.88      0.83       127\n",
      "\n",
      "    accuracy                           0.74       177\n",
      "   macro avg       0.67      0.63      0.64       177\n",
      "weighted avg       0.72      0.74      0.72       177\n",
      "\n",
      "------------------------------------------------------------------------\n",
      "Confusion matrix\n",
      " [[ 19  31]\n",
      " [ 15 112]] \n",
      "\n",
      "\n"
     ]
    }
   ],
   "source": [
    "import pandas as pd\n",
    "from sklearn.metrics import classification_report,confusion_matrix\n",
    "result = pd.concat([lrpredictB,lrpredictM])\n",
    "true_labels=(test_df.select(\"Loan_Status\")).toPandas()\n",
    "predicted_labels=predictions.select(\"prediction\").toPandas()\n",
    "\n",
    "print(\"-- Logistic Regression --\")\n",
    "print(\"------------------------------------------------------------------------\")\n",
    "print(\"Classification Report\\n\",classification_report(true_labels, predicted_labels))\n",
    "print(\"------------------------------------------------------------------------\")\n",
    "print(\"Confusion matrix\\n\",confusion_matrix(true_labels,predicted_labels),\"\\n\\n\")\n",
    "LR=confusion_matrix(true_labels,predicted_labels)"
   ]
  },
  {
   "cell_type": "code",
   "execution_count": 66,
   "metadata": {},
   "outputs": [],
   "source": [
    "def accuracy_m(model): \n",
    "    predictions = model.transform(test_df)\n",
    "    cm = predictions.select(\"Loan_Status\", \"prediction\")\n",
    "    acc = cm.filter(cm.Loan_Status == cm.prediction).count() / cm.count()\n",
    "    x = (\"Model accuracy: %.3f%%\" % (acc * 100)) \n",
    "    return x\n",
    "\n"
   ]
  },
  {
   "cell_type": "code",
   "execution_count": 67,
   "metadata": {},
   "outputs": [
    {
     "name": "stdout",
     "output_type": "stream",
     "text": [
      "Model accuracy: 74.011%\n"
     ]
    }
   ],
   "source": [
    "x = accuracy_m(model = lrModel)\n",
    "print(x)"
   ]
  },
  {
   "cell_type": "markdown",
   "metadata": {},
   "source": [
    "Decision Tree Classifier\n"
   ]
  },
  {
   "cell_type": "code",
   "execution_count": 68,
   "metadata": {},
   "outputs": [],
   "source": [
    "from pyspark.ml.classification import DecisionTreeClassifier\n",
    "dt = DecisionTreeClassifier(featuresCol = 'features', labelCol = 'Loan_Status', maxDepth = 3)\n",
    "dtModel = dt.fit(train_df)"
   ]
  },
  {
   "cell_type": "code",
   "execution_count": 69,
   "metadata": {},
   "outputs": [
    {
     "name": "stdout",
     "output_type": "stream",
     "text": [
      "+--------------------+-----------+-------------+--------------------+----------+\n",
      "|            features|Loan_Status|rawPrediction|         probability|prediction|\n",
      "+--------------------+-----------+-------------+--------------------+----------+\n",
      "|(11,[0,1,2,5,7,8]...|          1|  [57.0,27.0]|[0.67857142857142...|       0.0|\n",
      "|(11,[0,1,5,6,7,8]...|          0|  [57.0,27.0]|[0.67857142857142...|       0.0|\n",
      "|(11,[0,2,3,5,7,8]...|          1|  [57.0,27.0]|[0.67857142857142...|       0.0|\n",
      "|(11,[0,3,5,7,8],[...|          1|  [57.0,27.0]|[0.67857142857142...|       0.0|\n",
      "|(11,[0,3,5,7,8,9]...|          1| [57.0,239.0]|[0.19256756756756...|       1.0|\n",
      "|(11,[0,3,5,7,8,9]...|          1| [57.0,239.0]|[0.19256756756756...|       1.0|\n",
      "|(11,[0,3,5,7,8,9]...|          0| [57.0,239.0]|[0.19256756756756...|       1.0|\n",
      "|(11,[0,4,5,7,8,9]...|          1| [57.0,239.0]|[0.19256756756756...|       1.0|\n",
      "|(11,[0,5,6,7,8,9]...|          1| [57.0,239.0]|[0.19256756756756...|       1.0|\n",
      "|(11,[0,5,7,8,9],[...|          0| [57.0,239.0]|[0.19256756756756...|       1.0|\n",
      "+--------------------+-----------+-------------+--------------------+----------+\n",
      "only showing top 10 rows\n",
      "\n"
     ]
    }
   ],
   "source": [
    "predictions = dtModel.transform(test_df)\n",
    "predictions.select('features', 'Loan_Status', 'rawPrediction', 'probability', 'prediction').show(10)"
   ]
  },
  {
   "cell_type": "code",
   "execution_count": 70,
   "metadata": {},
   "outputs": [
    {
     "name": "stdout",
     "output_type": "stream",
     "text": [
      "Test Area Under ROC 0.6496062992125984\n"
     ]
    }
   ],
   "source": [
    "from pyspark.ml.evaluation import BinaryClassificationEvaluator\n",
    "evaluator = BinaryClassificationEvaluator(labelCol=\"Loan_Status\")\n",
    "print('Test Area Under ROC', evaluator.evaluate(predictions))"
   ]
  },
  {
   "cell_type": "code",
   "execution_count": 71,
   "metadata": {},
   "outputs": [
    {
     "name": "stderr",
     "output_type": "stream",
     "text": [
      "C:\\spark-3.2.1-bin-hadoop3.2\\python\\pyspark\\sql\\pandas\\conversion.py:87: UserWarning: toPandas attempted Arrow optimization because 'spark.sql.execution.arrow.pyspark.enabled' is set to true; however, failed by the reason below:\n",
      "  PyArrow >= 1.0.0 must be installed; however, it was not found.\n",
      "Attempting non-optimization as 'spark.sql.execution.arrow.pyspark.fallback.enabled' is set to true.\n",
      "  warnings.warn(msg)\n"
     ]
    }
   ],
   "source": [
    "dtpredictB = predictions[predictions.prediction==0].toPandas()\n",
    "dtpredictM = predictions[predictions.prediction==1].toPandas()"
   ]
  },
  {
   "cell_type": "code",
   "execution_count": 72,
   "metadata": {},
   "outputs": [
    {
     "name": "stdout",
     "output_type": "stream",
     "text": [
      "-- Decision Tree Classifier --\n",
      "------------------------------------------------------------------------\n",
      "Classification Report\n",
      "               precision    recall  f1-score   support\n",
      "\n",
      "           0       0.58      0.44      0.50        50\n",
      "           1       0.80      0.87      0.83       127\n",
      "\n",
      "    accuracy                           0.75       177\n",
      "   macro avg       0.69      0.66      0.67       177\n",
      "weighted avg       0.74      0.75      0.74       177\n",
      "\n",
      "------------------------------------------------------------------------\n",
      "Confusion matrix\n",
      " [[ 22  28]\n",
      " [ 16 111]] \n",
      "\n",
      "\n"
     ]
    }
   ],
   "source": [
    "result = pd.concat([dtpredictB,dtpredictM])\n",
    "true_labels=(test_df.select(\"Loan_Status\")).toPandas()\n",
    "predicted_labels=predictions.select(\"prediction\").toPandas()\n",
    "\n",
    "print(\"-- Decision Tree Classifier --\")\n",
    "print(\"------------------------------------------------------------------------\")\n",
    "print(\"Classification Report\\n\",classification_report(true_labels, predicted_labels))\n",
    "print(\"------------------------------------------------------------------------\")\n",
    "print(\"Confusion matrix\\n\",confusion_matrix(true_labels,predicted_labels),\"\\n\\n\")\n",
    "DT=confusion_matrix(true_labels,predicted_labels)"
   ]
  },
  {
   "cell_type": "code",
   "execution_count": 73,
   "metadata": {},
   "outputs": [
    {
     "name": "stdout",
     "output_type": "stream",
     "text": [
      "Model accuracy: 75.141%\n"
     ]
    }
   ],
   "source": [
    "x = accuracy_m(model = dtModel)\n",
    "print(x)"
   ]
  },
  {
   "cell_type": "markdown",
   "metadata": {},
   "source": [
    "Random Forest Classifier"
   ]
  },
  {
   "cell_type": "code",
   "execution_count": 74,
   "metadata": {},
   "outputs": [],
   "source": [
    "from pyspark.ml.classification import RandomForestClassifier\n",
    "rf = RandomForestClassifier(featuresCol = 'features', labelCol = 'Loan_Status')\n",
    "rfModel = rf.fit(train_df)"
   ]
  },
  {
   "cell_type": "code",
   "execution_count": 75,
   "metadata": {},
   "outputs": [
    {
     "name": "stdout",
     "output_type": "stream",
     "text": [
      "+--------------------+-----------+--------------------+--------------------+----------+\n",
      "|            features|Loan_Status|       rawPrediction|         probability|prediction|\n",
      "+--------------------+-----------+--------------------+--------------------+----------+\n",
      "|(11,[0,1,2,5,7,8]...|          1|[11.2516127703660...|[0.56258063851830...|       0.0|\n",
      "|(11,[0,1,5,6,7,8]...|          0|[12.0969314524564...|[0.60484657262282...|       0.0|\n",
      "|(11,[0,2,3,5,7,8]...|          1|[11.9720051289985...|[0.59860025644992...|       0.0|\n",
      "|(11,[0,3,5,7,8],[...|          1|[10.7050464946033...|[0.53525232473016...|       0.0|\n",
      "|(11,[0,3,5,7,8,9]...|          1|[4.45472741441941...|[0.22273637072097...|       1.0|\n",
      "|(11,[0,3,5,7,8,9]...|          1|[6.27705445844457...|[0.31385272292222...|       1.0|\n",
      "|(11,[0,3,5,7,8,9]...|          0|[6.27705445844457...|[0.31385272292222...|       1.0|\n",
      "|(11,[0,4,5,7,8,9]...|          1|[6.52148326074307...|[0.32607416303715...|       1.0|\n",
      "|(11,[0,5,6,7,8,9]...|          1|[3.71745990165843...|[0.18587299508292...|       1.0|\n",
      "|(11,[0,5,7,8,9],[...|          0|[4.24702892196368...|[0.21235144609818...|       1.0|\n",
      "|(11,[0,5,7,8,9],[...|          0|[5.22292618998152...|[0.26114630949907...|       1.0|\n",
      "|(11,[0,5,7,8,9],[...|          1|[6.97265872191854...|[0.34863293609592...|       1.0|\n",
      "|(11,[1,3,4,5,7,8]...|          0|[12.4606482981904...|[0.62303241490952...|       0.0|\n",
      "|(11,[1,3,5,6,7,8]...|          0|[10.5375404445390...|[0.52687702222695...|       0.0|\n",
      "|(11,[1,3,5,7,8,9]...|          0|[4.72923604029892...|[0.23646180201494...|       1.0|\n",
      "|(11,[1,3,5,7,8,9]...|          1|[3.67407197379339...|[0.18370359868966...|       1.0|\n",
      "|(11,[1,5,6,7,8],[...|          0|[13.0394771673471...|[0.65197385836735...|       0.0|\n",
      "|(11,[1,5,6,7,8],[...|          1|[9.69685447185447...|[0.48484272359272...|       1.0|\n",
      "|(11,[2,3,5,7,8,9]...|          0|[4.38321209855177...|[0.21916060492758...|       1.0|\n",
      "|(11,[2,5,7,8,9],[...|          1|[6.12264757547033...|[0.30613237877351...|       1.0|\n",
      "+--------------------+-----------+--------------------+--------------------+----------+\n",
      "only showing top 20 rows\n",
      "\n"
     ]
    }
   ],
   "source": [
    "predictions = rfModel.transform(test_df)\n",
    "predictions.select('features', 'Loan_Status', 'rawPrediction', 'probability', 'prediction').show()"
   ]
  },
  {
   "cell_type": "code",
   "execution_count": 76,
   "metadata": {},
   "outputs": [
    {
     "name": "stdout",
     "output_type": "stream",
     "text": [
      "Test Area Under ROC 0.7046456692913383\n"
     ]
    }
   ],
   "source": [
    "evaluator = BinaryClassificationEvaluator(labelCol=\"Loan_Status\")\n",
    "print('Test Area Under ROC', evaluator.evaluate(predictions))"
   ]
  },
  {
   "cell_type": "code",
   "execution_count": 77,
   "metadata": {},
   "outputs": [
    {
     "name": "stderr",
     "output_type": "stream",
     "text": [
      "C:\\spark-3.2.1-bin-hadoop3.2\\python\\pyspark\\sql\\pandas\\conversion.py:87: UserWarning: toPandas attempted Arrow optimization because 'spark.sql.execution.arrow.pyspark.enabled' is set to true; however, failed by the reason below:\n",
      "  PyArrow >= 1.0.0 must be installed; however, it was not found.\n",
      "Attempting non-optimization as 'spark.sql.execution.arrow.pyspark.fallback.enabled' is set to true.\n",
      "  warnings.warn(msg)\n"
     ]
    }
   ],
   "source": [
    "rfpredictB = predictions[predictions.prediction==0].toPandas()\n",
    "rfpredictM = predictions[predictions.prediction==1].toPandas()"
   ]
  },
  {
   "cell_type": "code",
   "execution_count": 78,
   "metadata": {},
   "outputs": [
    {
     "name": "stdout",
     "output_type": "stream",
     "text": [
      "-- Random Forest Classifier --\n",
      "------------------------------------------------------------------------\n",
      "Classification Report\n",
      "               precision    recall  f1-score   support\n",
      "\n",
      "           0       0.57      0.34      0.42        50\n",
      "           1       0.78      0.90      0.83       127\n",
      "\n",
      "    accuracy                           0.74       177\n",
      "   macro avg       0.67      0.62      0.63       177\n",
      "weighted avg       0.72      0.74      0.72       177\n",
      "\n",
      "------------------------------------------------------------------------\n",
      "Confusion matrix\n",
      " [[ 17  33]\n",
      " [ 13 114]] \n",
      "\n",
      "\n"
     ]
    }
   ],
   "source": [
    "result = pd.concat([rfpredictB,rfpredictM])\n",
    "true_labels=(test_df.select(\"Loan_Status\")).toPandas()\n",
    "predicted_labels=predictions.select(\"prediction\").toPandas()\n",
    "\n",
    "print(\"-- Random Forest Classifier --\")\n",
    "print(\"------------------------------------------------------------------------\")\n",
    "print(\"Classification Report\\n\",classification_report(true_labels, predicted_labels))\n",
    "print(\"------------------------------------------------------------------------\")\n",
    "print(\"Confusion matrix\\n\",confusion_matrix(true_labels,predicted_labels),\"\\n\\n\")\n",
    "DT=confusion_matrix(true_labels,predicted_labels)"
   ]
  },
  {
   "cell_type": "code",
   "execution_count": 79,
   "metadata": {},
   "outputs": [
    {
     "name": "stdout",
     "output_type": "stream",
     "text": [
      "Model accuracy: 74.011%\n"
     ]
    }
   ],
   "source": [
    "x = accuracy_m(model = rfModel)\n",
    "print(x)"
   ]
  },
  {
   "cell_type": "markdown",
   "metadata": {},
   "source": [
    "Multilayered Perceptron"
   ]
  },
  {
   "cell_type": "code",
   "execution_count": 80,
   "metadata": {},
   "outputs": [],
   "source": [
    "from pyspark.ml.classification import MultilayerPerceptronClassifier\n",
    "layers = [11, 256,128,64, 32,16,8,2]\n",
    "trainer = MultilayerPerceptronClassifier(labelCol=\"Loan_Status\",maxIter=100, layers=layers, blockSize=128, seed=1234)\n",
    "mpModel = trainer.fit(train_df)\n"
   ]
  },
  {
   "cell_type": "code",
   "execution_count": 81,
   "metadata": {},
   "outputs": [
    {
     "name": "stdout",
     "output_type": "stream",
     "text": [
      "+--------------------+-----------+--------------------+--------------------+----------+\n",
      "|            features|Loan_Status|       rawPrediction|         probability|prediction|\n",
      "+--------------------+-----------+--------------------+--------------------+----------+\n",
      "|(11,[0,1,2,5,7,8]...|          1|[-1.5241856098129...|[0.23206453624712...|       1.0|\n",
      "|(11,[0,1,5,6,7,8]...|          0|[-1.5178176419295...|[0.23465289651272...|       1.0|\n",
      "|(11,[0,2,3,5,7,8]...|          1|[-1.4441751098279...|[0.26610984622637...|       1.0|\n",
      "|(11,[0,3,5,7,8],[...|          1|[-1.4441751102051...|[0.26610984605626...|       1.0|\n",
      "|(11,[0,3,5,7,8,9]...|          1|[-1.5749927932812...|[0.21214375445443...|       1.0|\n",
      "|(11,[0,3,5,7,8,9]...|          1|[-1.7913160056652...|[0.14143345739503...|       1.0|\n",
      "|(11,[0,3,5,7,8,9]...|          0|[-1.8002082302020...|[0.13900139506144...|       1.0|\n",
      "|(11,[0,4,5,7,8,9]...|          1|[-1.4441751101647...|[0.26610984607451...|       1.0|\n",
      "|(11,[0,5,6,7,8,9]...|          1|[-1.5112759018863...|[0.23732097019852...|       1.0|\n",
      "|(11,[0,5,7,8,9],[...|          0|[-1.4441751102051...|[0.26610984605626...|       1.0|\n",
      "|(11,[0,5,7,8,9],[...|          0|[-1.8141756916047...|[0.13525182726987...|       1.0|\n",
      "|(11,[0,5,7,8,9],[...|          1|[-1.5257621932546...|[0.23141398146445...|       1.0|\n",
      "|(11,[1,3,4,5,7,8]...|          0|[-1.4441751102052...|[0.26610984605624...|       1.0|\n",
      "|(11,[1,3,5,6,7,8]...|          0|[-1.5170403019584...|[0.23497890100953...|       1.0|\n",
      "|(11,[1,3,5,7,8,9]...|          0|[-1.4441751102051...|[0.26610984605626...|       1.0|\n",
      "|(11,[1,3,5,7,8,9]...|          1|[-1.6574982781869...|[0.18248612627607...|       1.0|\n",
      "|(11,[1,5,6,7,8],[...|          0|[-1.3020126534820...|[0.33423589897897...|       1.0|\n",
      "|(11,[1,5,6,7,8],[...|          1|[-1.6849398751774...|[0.17328067612074...|       1.0|\n",
      "|(11,[2,3,5,7,8,9]...|          0|[-1.4441751102051...|[0.26610984605625...|       1.0|\n",
      "|(11,[2,5,7,8,9],[...|          1|[-1.4441751102051...|[0.26610984605626...|       1.0|\n",
      "+--------------------+-----------+--------------------+--------------------+----------+\n",
      "only showing top 20 rows\n",
      "\n"
     ]
    }
   ],
   "source": [
    "predictions = mpModel.transform(test_df)\n",
    "predictions.select('features', 'Loan_Status', 'rawPrediction', 'probability', 'prediction').show()"
   ]
  },
  {
   "cell_type": "code",
   "execution_count": 82,
   "metadata": {},
   "outputs": [
    {
     "name": "stdout",
     "output_type": "stream",
     "text": [
      "Test Area Under ROC 0.5047244094488188\n"
     ]
    }
   ],
   "source": [
    "evaluator = BinaryClassificationEvaluator(labelCol=\"Loan_Status\")\n",
    "print('Test Area Under ROC', evaluator.evaluate(predictions))"
   ]
  },
  {
   "cell_type": "code",
   "execution_count": 83,
   "metadata": {},
   "outputs": [
    {
     "name": "stderr",
     "output_type": "stream",
     "text": [
      "C:\\spark-3.2.1-bin-hadoop3.2\\python\\pyspark\\sql\\pandas\\conversion.py:87: UserWarning: toPandas attempted Arrow optimization because 'spark.sql.execution.arrow.pyspark.enabled' is set to true; however, failed by the reason below:\n",
      "  PyArrow >= 1.0.0 must be installed; however, it was not found.\n",
      "Attempting non-optimization as 'spark.sql.execution.arrow.pyspark.fallback.enabled' is set to true.\n",
      "  warnings.warn(msg)\n"
     ]
    }
   ],
   "source": [
    "mppredictB = predictions[predictions.prediction==0].toPandas()\n",
    "mppredictM = predictions[predictions.prediction==1].toPandas()"
   ]
  },
  {
   "cell_type": "code",
   "execution_count": 84,
   "metadata": {},
   "outputs": [
    {
     "name": "stdout",
     "output_type": "stream",
     "text": [
      "-- Multilayered Perceptron --\n",
      "------------------------------------------------------------------------\n",
      "Classification Report\n",
      "               precision    recall  f1-score   support\n",
      "\n",
      "           0       0.00      0.00      0.00        50\n",
      "           1       0.72      1.00      0.84       127\n",
      "\n",
      "    accuracy                           0.72       177\n",
      "   macro avg       0.36      0.50      0.42       177\n",
      "weighted avg       0.51      0.72      0.60       177\n",
      "\n",
      "------------------------------------------------------------------------\n",
      "Confusion matrix\n",
      " [[  0  50]\n",
      " [  0 127]] \n",
      "\n",
      "\n"
     ]
    },
    {
     "name": "stderr",
     "output_type": "stream",
     "text": [
      "c:\\Users\\venka\\AppData\\Local\\Programs\\Python\\Python39\\lib\\site-packages\\sklearn\\metrics\\_classification.py:1245: UndefinedMetricWarning: Precision and F-score are ill-defined and being set to 0.0 in labels with no predicted samples. Use `zero_division` parameter to control this behavior.\n",
      "  _warn_prf(average, modifier, msg_start, len(result))\n",
      "c:\\Users\\venka\\AppData\\Local\\Programs\\Python\\Python39\\lib\\site-packages\\sklearn\\metrics\\_classification.py:1245: UndefinedMetricWarning: Precision and F-score are ill-defined and being set to 0.0 in labels with no predicted samples. Use `zero_division` parameter to control this behavior.\n",
      "  _warn_prf(average, modifier, msg_start, len(result))\n",
      "c:\\Users\\venka\\AppData\\Local\\Programs\\Python\\Python39\\lib\\site-packages\\sklearn\\metrics\\_classification.py:1245: UndefinedMetricWarning: Precision and F-score are ill-defined and being set to 0.0 in labels with no predicted samples. Use `zero_division` parameter to control this behavior.\n",
      "  _warn_prf(average, modifier, msg_start, len(result))\n"
     ]
    }
   ],
   "source": [
    "result = pd.concat([mppredictB,mppredictM])\n",
    "true_labels=(test_df.select(\"Loan_Status\")).toPandas()\n",
    "predicted_labels=predictions.select(\"prediction\").toPandas()\n",
    "\n",
    "print(\"-- Multilayered Perceptron --\")\n",
    "print(\"------------------------------------------------------------------------\")\n",
    "print(\"Classification Report\\n\",classification_report(true_labels, predicted_labels))\n",
    "print(\"------------------------------------------------------------------------\")\n",
    "print(\"Confusion matrix\\n\",confusion_matrix(true_labels,predicted_labels),\"\\n\\n\")\n",
    "DT=confusion_matrix(true_labels,predicted_labels)"
   ]
  },
  {
   "cell_type": "code",
   "execution_count": 85,
   "metadata": {},
   "outputs": [
    {
     "name": "stdout",
     "output_type": "stream",
     "text": [
      "Model accuracy: 71.751%\n"
     ]
    }
   ],
   "source": [
    "x = accuracy_m(model = mpModel)\n",
    "print(x)"
   ]
  }
 ],
 "metadata": {
  "interpreter": {
   "hash": "d8af88ce167851b8432cc116475a56a8e97cb938dd5125e0f7f0a0d3647a2097"
  },
  "kernelspec": {
   "display_name": "Python 3 (ipykernel)",
   "language": "python",
   "name": "python3"
  },
  "language_info": {
   "codemirror_mode": {
    "name": "ipython",
    "version": 3
   },
   "file_extension": ".py",
   "mimetype": "text/x-python",
   "name": "python",
   "nbconvert_exporter": "python",
   "pygments_lexer": "ipython3",
   "version": "3.7.13"
  }
 },
 "nbformat": 4,
 "nbformat_minor": 2
}
