{
 "cells": [
  {
   "cell_type": "code",
   "execution_count": 10,
   "metadata": {},
   "outputs": [
    {
     "name": "stdout",
     "output_type": "stream",
     "text": [
      "+--------+------+-------+----------+------------+-------------+---------------+-----------------+----------+----------------+--------------+-------------+-----------+\n",
      "| Loan_ID|Gender|Married|Dependents|   Education|Self_Employed|ApplicantIncome|CoapplicantIncome|LoanAmount|Loan_Amount_Term|Credit_History|Property_Area|Loan_Status|\n",
      "+--------+------+-------+----------+------------+-------------+---------------+-----------------+----------+----------------+--------------+-------------+-----------+\n",
      "|LP001002|  Male|     No|         0|    Graduate|           No|           5849|             0E-8|      null|             360|          true|        Urban|          Y|\n",
      "|LP001003|  Male|    Yes|         1|    Graduate|           No|           4583|    1508.00000000|       128|             360|          true|        Rural|          N|\n",
      "|LP001005|  Male|    Yes|         0|    Graduate|          Yes|           3000|             0E-8|        66|             360|          true|        Urban|          Y|\n",
      "|LP001006|  Male|    Yes|         0|Not Graduate|           No|           2583|    2358.00000000|       120|             360|          true|        Urban|          Y|\n",
      "|LP001008|  Male|     No|         0|    Graduate|           No|           6000|             0E-8|       141|             360|          true|        Urban|          Y|\n",
      "|LP001011|  Male|    Yes|         2|    Graduate|          Yes|           5417|    4196.00000000|       267|             360|          true|        Urban|          Y|\n",
      "|LP001013|  Male|    Yes|         0|Not Graduate|           No|           2333|    1516.00000000|        95|             360|          true|        Urban|          Y|\n",
      "|LP001014|  Male|    Yes|        3+|    Graduate|           No|           3036|    2504.00000000|       158|             360|         false|    Semiurban|          N|\n",
      "|LP001018|  Male|    Yes|         2|    Graduate|           No|           4006|    1526.00000000|       168|             360|          true|        Urban|          Y|\n",
      "|LP001020|  Male|    Yes|         1|    Graduate|           No|          12841|   10968.00000000|       349|             360|          true|    Semiurban|          N|\n",
      "|LP001024|  Male|    Yes|         2|    Graduate|           No|           3200|     700.00000000|        70|             360|          true|        Urban|          Y|\n",
      "|LP001027|  Male|    Yes|         2|    Graduate|         null|           2500|    1840.00000000|       109|             360|          true|        Urban|          Y|\n",
      "|LP001028|  Male|    Yes|         2|    Graduate|           No|           3073|    8106.00000000|       200|             360|          true|        Urban|          Y|\n",
      "|LP001029|  Male|     No|         0|    Graduate|           No|           1853|    2840.00000000|       114|             360|          true|        Rural|          N|\n",
      "|LP001030|  Male|    Yes|         2|    Graduate|           No|           1299|    1086.00000000|        17|             120|          true|        Urban|          Y|\n",
      "|LP001032|  Male|     No|         0|    Graduate|           No|           4950|             0E-8|       125|             360|          true|        Urban|          Y|\n",
      "|LP001034|  Male|     No|         1|Not Graduate|           No|           3596|             0E-8|       100|             240|          null|        Urban|          Y|\n",
      "|LP001036|Female|     No|         0|    Graduate|           No|           3510|             0E-8|        76|             360|         false|        Urban|          N|\n",
      "|LP001038|  Male|    Yes|         0|Not Graduate|           No|           4887|             0E-8|       133|             360|          true|        Rural|          N|\n",
      "|LP001041|  Male|    Yes|         0|    Graduate|         null|           2600|    3500.00000000|       115|            null|          true|        Urban|          Y|\n",
      "+--------+------+-------+----------+------------+-------------+---------------+-----------------+----------+----------------+--------------+-------------+-----------+\n",
      "only showing top 20 rows\n",
      "\n"
     ]
    }
   ],
   "source": [
    "import findspark\n",
    "findspark.init()\n",
    "\n",
    "import pyspark # only run after findspark.init()\n",
    "from pyspark.sql import SparkSession\n",
    "spark = SparkSession.builder.getOrCreate()\n",
    "\n",
    "dataframe_mysql = spark.read.format(\"jdbc\").options(\n",
    "    url=\"jdbc:mysql://localhost:3306/loan\",\n",
    "    driver = \"com.mysql.jdbc.Driver\",\n",
    "    dbtable = \"mytable\",\n",
    "    user=\"root\",\n",
    "    password=\"sanjay2001\").load()\n",
    "\n",
    "dataframe_mysql.show()"
   ]
  },
  {
   "cell_type": "code",
   "execution_count": 11,
   "metadata": {},
   "outputs": [
    {
     "name": "stdout",
     "output_type": "stream",
     "text": [
      "root\n",
      " |-- Loan_ID: string (nullable = true)\n",
      " |-- Gender: string (nullable = true)\n",
      " |-- Married: string (nullable = true)\n",
      " |-- Dependents: string (nullable = true)\n",
      " |-- Education: string (nullable = true)\n",
      " |-- Self_Employed: string (nullable = true)\n",
      " |-- ApplicantIncome: integer (nullable = true)\n",
      " |-- CoapplicantIncome: decimal(13,8) (nullable = true)\n",
      " |-- LoanAmount: integer (nullable = true)\n",
      " |-- Loan_Amount_Term: integer (nullable = true)\n",
      " |-- Credit_History: boolean (nullable = true)\n",
      " |-- Property_Area: string (nullable = true)\n",
      " |-- Loan_Status: string (nullable = true)\n",
      "\n"
     ]
    }
   ],
   "source": [
    "dataframe_mysql.printSchema()"
   ]
  },
  {
   "cell_type": "code",
   "execution_count": 12,
   "metadata": {},
   "outputs": [
    {
     "data": {
      "text/plain": [
       "pyspark.sql.dataframe.DataFrame"
      ]
     },
     "execution_count": 12,
     "metadata": {},
     "output_type": "execute_result"
    }
   ],
   "source": [
    "type(dataframe_mysql)"
   ]
  },
  {
   "cell_type": "code",
   "execution_count": 13,
   "metadata": {},
   "outputs": [],
   "source": [
    "dataframe_mysql = dataframe_mysql.na.drop()"
   ]
  },
  {
   "cell_type": "code",
   "execution_count": 14,
   "metadata": {},
   "outputs": [
    {
     "data": {
      "text/plain": [
       "480"
      ]
     },
     "execution_count": 14,
     "metadata": {},
     "output_type": "execute_result"
    }
   ],
   "source": [
    "dataframe_mysql.count()"
   ]
  },
  {
   "cell_type": "code",
   "execution_count": 15,
   "metadata": {},
   "outputs": [
    {
     "name": "stdout",
     "output_type": "stream",
     "text": [
      "+--------+------+-------+----------+------------+-------------+---------------+-----------------+----------+----------------+--------------+-------------+-----------+\n",
      "| Loan_ID|Gender|Married|Dependents|   Education|Self_Employed|ApplicantIncome|CoapplicantIncome|LoanAmount|Loan_Amount_Term|Credit_History|Property_Area|Loan_Status|\n",
      "+--------+------+-------+----------+------------+-------------+---------------+-----------------+----------+----------------+--------------+-------------+-----------+\n",
      "|LP001003|  Male|    Yes|         1|    Graduate|           No|           4583|    1508.00000000|       128|             360|          true|        Rural|          0|\n",
      "|LP001005|  Male|    Yes|         0|    Graduate|          Yes|           3000|             0E-8|        66|             360|          true|        Urban|          1|\n",
      "|LP001006|  Male|    Yes|         0|Not Graduate|           No|           2583|    2358.00000000|       120|             360|          true|        Urban|          1|\n",
      "|LP001008|  Male|     No|         0|    Graduate|           No|           6000|             0E-8|       141|             360|          true|        Urban|          1|\n",
      "|LP001011|  Male|    Yes|         2|    Graduate|          Yes|           5417|    4196.00000000|       267|             360|          true|        Urban|          1|\n",
      "|LP001013|  Male|    Yes|         0|Not Graduate|           No|           2333|    1516.00000000|        95|             360|          true|        Urban|          1|\n",
      "|LP001014|  Male|    Yes|        3+|    Graduate|           No|           3036|    2504.00000000|       158|             360|         false|    Semiurban|          0|\n",
      "|LP001018|  Male|    Yes|         2|    Graduate|           No|           4006|    1526.00000000|       168|             360|          true|        Urban|          1|\n",
      "|LP001020|  Male|    Yes|         1|    Graduate|           No|          12841|   10968.00000000|       349|             360|          true|    Semiurban|          0|\n",
      "|LP001024|  Male|    Yes|         2|    Graduate|           No|           3200|     700.00000000|        70|             360|          true|        Urban|          1|\n",
      "|LP001028|  Male|    Yes|         2|    Graduate|           No|           3073|    8106.00000000|       200|             360|          true|        Urban|          1|\n",
      "|LP001029|  Male|     No|         0|    Graduate|           No|           1853|    2840.00000000|       114|             360|          true|        Rural|          0|\n",
      "|LP001030|  Male|    Yes|         2|    Graduate|           No|           1299|    1086.00000000|        17|             120|          true|        Urban|          1|\n",
      "|LP001032|  Male|     No|         0|    Graduate|           No|           4950|             0E-8|       125|             360|          true|        Urban|          1|\n",
      "|LP001036|Female|     No|         0|    Graduate|           No|           3510|             0E-8|        76|             360|         false|        Urban|          0|\n",
      "|LP001038|  Male|    Yes|         0|Not Graduate|           No|           4887|             0E-8|       133|             360|          true|        Rural|          0|\n",
      "|LP001043|  Male|    Yes|         0|Not Graduate|           No|           7660|             0E-8|       104|             360|         false|        Urban|          0|\n",
      "|LP001046|  Male|    Yes|         1|    Graduate|           No|           5955|    5625.00000000|       315|             360|          true|        Urban|          1|\n",
      "|LP001047|  Male|    Yes|         0|Not Graduate|           No|           2600|    1911.00000000|       116|             360|         false|    Semiurban|          0|\n",
      "|LP001066|  Male|    Yes|         0|    Graduate|          Yes|           9560|             0E-8|       191|             360|          true|    Semiurban|          1|\n",
      "+--------+------+-------+----------+------------+-------------+---------------+-----------------+----------+----------------+--------------+-------------+-----------+\n",
      "only showing top 20 rows\n",
      "\n"
     ]
    }
   ],
   "source": [
    "from pyspark.sql.functions import col, when\n",
    "dataframe_mysql = dataframe_mysql.withColumn(\"Loan_Status\", when(col(\"Loan_Status\") == \"Y\", 1).otherwise(0))\n",
    "dataframe_mysql.show()"
   ]
  },
  {
   "cell_type": "code",
   "execution_count": null,
   "metadata": {},
   "outputs": [],
   "source": []
  }
 ],
 "metadata": {
  "interpreter": {
   "hash": "43d5314b8a171c2fb5013df2c1c6deb360f25fb41e3a4efeb0a5d5a03f12d5ff"
  },
  "kernelspec": {
   "display_name": "Python 3.9.1 64-bit",
   "language": "python",
   "name": "python3"
  },
  "language_info": {
   "codemirror_mode": {
    "name": "ipython",
    "version": 3
   },
   "file_extension": ".py",
   "mimetype": "text/x-python",
   "name": "python",
   "nbconvert_exporter": "python",
   "pygments_lexer": "ipython3",
   "version": "3.9.1"
  },
  "orig_nbformat": 4
 },
 "nbformat": 4,
 "nbformat_minor": 2
}
